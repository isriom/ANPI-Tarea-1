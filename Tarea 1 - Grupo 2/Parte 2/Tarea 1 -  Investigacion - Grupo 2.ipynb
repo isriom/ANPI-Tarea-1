{
  "nbformat": 4,
  "nbformat_minor": 0,
  "metadata": {
    "colab": {
      "provenance": []
    },
    "kernelspec": {
      "name": "python3",
      "display_name": "Python 3"
    },
    "language_info": {
      "name": "python"
    }
  },
  "cells": [
    {
      "cell_type": "markdown",
      "source": [
        "Métodos iterativos desarrollados por el grupo "
      ],
      "metadata": {
        "id": "-1UkskcI-gfV"
      }
    },
    {
      "cell_type": "code",
      "source": [
        "#@title Ecuación del problema\n",
        "\n",
        "\"\"\"\n",
        "  Ecuacion de Shockley con Efecto Early para el circuito del problema. \n",
        "\"\"\"\n",
        "\n",
        "import sympy\n",
        "import math\n",
        "from sympy.abc import x\n",
        "\n",
        "V_T = 0.026 # para este valor se asume una temperatura de 300 K\n",
        "I_S = 2*10**(-16)\n",
        "V_A = 5 \n",
        "n = 1\n",
        "V_BE = 0.7\n",
        "V_F=5\n",
        "V_CE=1\n",
        "R=47000\n",
        "\n",
        "f_sinValores = \"I_S*(E**(V_BE/(n*V_T))-1)*(1-(V_CE/V_A))+(V_F-V_BE)/R\"\n",
        "f_conValores = (\"{}*(E**({}/({}*{}))-1)*(1-({}/{}))-({}-{})/{}\".format(I_S,\"x\",n,V_T,V_CE,V_A,V_F,\"x\",R))\n",
        "\n",
        "print(f_sinValores)\n",
        "print(f_conValores)"
      ],
      "metadata": {
        "colab": {
          "base_uri": "https://localhost:8080/"
        },
        "id": "sKNpm-7AyWsW",
        "outputId": "c19f719d-9a37-4e52-d04e-a34575bd74a4",
        "cellView": "form"
      },
      "execution_count": null,
      "outputs": [
        {
          "output_type": "stream",
          "name": "stdout",
          "text": [
            "I_S*(E**(V_BE/(n*V_T))-1)*(1-(V_CE/V_A))+(V_F-V_BE)/R\n",
            "2e-16*(E**(x/(1*0.026))-1)*(1-(1/5))-(5-x)/47000\n"
          ]
        }
      ]
    },
    {
      "cell_type": "code",
      "source": [
        "#@title Metodo de la Bisección\n",
        "import sympy\n",
        "from sympy.abc import x\n",
        "import time\n",
        "import math\n",
        "\n",
        "\"\"\"\n",
        "Entradas: a y b: dos numeros reales para el intervalo\n",
        "          funcion_text: La funcion del circuito en string\n",
        "\n",
        "Salidas: xk: Solucion aproximada \n",
        "         error: Error absoluto de la función \n",
        "         iter: Iteraciones utlizadas\n",
        "         tiempoEjec: Tiempo de ejecucion\n",
        "\n",
        "Condicion de parada: iter = iterMax, error < tol\n",
        "\"\"\"\n",
        "def metodo_biseccion(a,b,funcion_text):\n",
        "  start_time = time.time()\n",
        "  tol = 10**-8\n",
        "  iterMax = 2500\n",
        "\n",
        "  # Convertir string a simbolico\n",
        "  f= sympy.lambdify(x,funcion_text, modules=[{'E' :math.exp(1),'e' :math.exp(1),'log':math.log }, 'numpy'])\n",
        "\n",
        "  # Salidas\n",
        "  xk = 0\n",
        "  error = 0\n",
        "  iter = 0\n",
        "\n",
        "  # Verificacion T. de Bolzano\n",
        "  if f(a)*f(b) <= 0:\n",
        "\n",
        "    for iter in range(iterMax):\n",
        "      # Definicion del cero de la funcion\n",
        "      xk = (a+b)/2\n",
        "\n",
        "      # Verificacion t. de Bolzano en el intervalo actual\n",
        "      if f(a)*f(xk) <= 0:\n",
        "        b = xk\n",
        "      else:\n",
        "        a = xk\n",
        "\n",
        "      error = abs(f(xk))\n",
        "\n",
        "      if error<tol:\n",
        "        tiempoEjec = time.time() - start_time\n",
        "        print(\"Metodo de la biseccion\")\n",
        "        print(\"Aproximacion del cero: \" + str(xk) + \" Error: \" + str(error) + \" Iteraciones: \" + str(iter) + \" TiempoEjecucion: \" + str(tiempoEjec))\n",
        "        return xk, error, iter, tiempoEjec\n",
        "    \n",
        "    tiempoEjec = time.time() - start_time\n",
        "    print(\"Metodo de la biseccion\")\n",
        "    print(\"Aproximacion del cero: \" + str(xk) + \" Error: \" + str(error) + \" Iteraciones: \" + str(iter) + \" TiempoEjecucion: \" + str(tiempoEjec))\n",
        "    return xk, error, iter, tiempoEjec\n",
        "\n",
        "  else:\n",
        "    print(\"La función en ese intervalo no cumple con el Teorema de Bolzano\")\n",
        "\n",
        "\n",
        "# Prueba\n",
        "metodo_biseccion(0,10, f_conValores)\n"
      ],
      "metadata": {
        "colab": {
          "base_uri": "https://localhost:8080/"
        },
        "id": "cGGY3NEKafQp",
        "outputId": "e86b87b5-ac33-43f6-bcf2-889ae1281b99",
        "cellView": "form"
      },
      "execution_count": 31,
      "outputs": [
        {
          "output_type": "stream",
          "name": "stdout",
          "text": [
            "Metodo de la biseccion\n",
            "Aproximacion del cero: 0.7038497924804688 Error: 2.599082448868635e-09 Iteraciones: 17 TiempoEjecucion: 0.0026912689208984375\n"
          ]
        },
        {
          "output_type": "execute_result",
          "data": {
            "text/plain": [
              "(0.7038497924804688, 2.599082448868635e-09, 17, 0.0026912689208984375)"
            ]
          },
          "metadata": {},
          "execution_count": 31
        }
      ]
    },
    {
      "cell_type": "code",
      "source": [
        "#@title Método de la Falsa Posición\n",
        "import sympy\n",
        "from sympy.abc import x\n",
        "import time\n",
        "import math\n",
        "\n",
        "\"\"\"\n",
        "Entradas: a y b: dos numeros reales para los valores iniciales de xk\n",
        "          funcion_text: la funcion del circuito en string\n",
        "\n",
        "Salida: xk : el cero de la función\n",
        "        error: acercamiento a la solución real\n",
        "        iter: cantidad de iteraciones utilizadas\n",
        "        tiempoEjec: tiempo de ejecución\n",
        "      \n",
        "Condicion de parada: iter = iterMax, error < tol, denominador = 0\n",
        "\"\"\"\n",
        "def falsa_posicion(a,b,funcion_text):\n",
        "  start_time = time.time()\n",
        "  tol = 10**-8\n",
        "  iterMax = 2500\n",
        "\n",
        "  # Convertir texto a simbólico\n",
        "  f= sympy.lambdify(x,funcion_text, modules=[{'E' :math.exp(1),'e' :math.exp(1),'log':math.log }, 'numpy'])\n",
        "\n",
        "  # Salidas\n",
        "  xk = 0\n",
        "  error = 0\n",
        "  iter = 0\n",
        "\n",
        "  # Verificacion T. de Bolzano\n",
        "  if f(a)*f(b) <= 0:\n",
        "    for iter in range(0, iterMax):\n",
        "\n",
        "      # Restriccion para el denominador\n",
        "      if f(b) - f(a) != 0:\n",
        "        xk = b - (b-a)/(f(b)-f(a)) * f(b)\n",
        "      else:\n",
        "        print(\"Denominador fue cero\")\n",
        "        return\n",
        "\n",
        "      # Verificacion del t. de Bolzano en el intervalo actual\n",
        "      if f(a)*f(xk) <= 0:\n",
        "        b = xk\n",
        "      else:\n",
        "        a = xk\n",
        "\n",
        "      error = abs(f(xk))\n",
        "\n",
        "      if error<tol:\n",
        "        tiempoEjec = time.time() - start_time\n",
        "        print(\"Metodo de la Falsa Posicion\")\n",
        "        print(\"Aproximacion del cero: \" + str(xk) + \" Error: \" + str(error) + \" Iteraciones: \" + str(iter) + \" TiempoEjecucion: \" + str(tiempoEjec))\n",
        "        return xk,error,iter,tiempoEjec\n",
        "\n",
        "    print(\"Metodo de la Falsa Posicion\")    \n",
        "    print(\"Maxima iteracion alcanzada\\n\")\n",
        "    tiempoEjec = time.time() - start_time\n",
        "    print(\"Aproximacion del cero: \" + str(xk) + \" Error: \" + str(error) + \" Iteraciones: \" + str(iter) + \" TiempoEjecucion: \" + str(tiempoEjec))\n",
        "    return xk,error,iter,tiempoEjec\n",
        "\n",
        "  else:\n",
        "    print(\"La función en ese intervalo no cumple con el Teorema de Bolzano\")\n",
        "\n",
        "# Prueba\n",
        "falsa_posicion(0.7 ,10, f_conValores)\n"
      ],
      "metadata": {
        "id": "FW8-a88fGaxU",
        "colab": {
          "base_uri": "https://localhost:8080/"
        },
        "outputId": "595159eb-406f-4666-eb5a-e34defe5eec8"
      },
      "execution_count": 32,
      "outputs": [
        {
          "output_type": "stream",
          "name": "stdout",
          "text": [
            "Metodo de la Falsa Posicion\n",
            "Maxima iteracion alcanzada\n",
            "\n",
            "Aproximacion del cero: 0.6999999999999993 Error: 1.2664407661107656e-05 Iteraciones: 2499 TiempoEjecucion: 0.01419520378112793\n"
          ]
        },
        {
          "output_type": "execute_result",
          "data": {
            "text/plain": [
              "(0.6999999999999993, 1.2664407661107656e-05, 2499, 0.01419520378112793)"
            ]
          },
          "metadata": {},
          "execution_count": 32
        }
      ]
    },
    {
      "cell_type": "code",
      "source": [
        "#@title Kou modificado\n",
        "###Primer metodo iterativo###\n",
        "\n",
        "from sympy.abc import x\n",
        "from sympy import diff\n",
        "import time\n",
        "import math\n",
        "\n",
        "\n",
        "\"\"\"\n",
        "divided_diference\n",
        "\n",
        "Es una funcion auxiliar recursiva para \n",
        "la funcion: modified_Kou_method\n",
        "\n",
        "Entradas: lista: lista de elementos caracteristicos del metodo Kou\n",
        "          function: funcion del circuito\n",
        "          derfunction: derivada de la funcion\n",
        "\n",
        "Salida: elemento cero de la lista o error.\n",
        "\"\"\"\n",
        "def divided_diference(lista:list,function,derfunction):\n",
        "\n",
        "  if len(lista)==2 and lista[0]==lista[1]:\n",
        "    return derfunction(lista[0])/math.factorial(3)\n",
        "\n",
        "  if len(lista)==0:\n",
        "    print(\"error\")\n",
        "    return\n",
        "\n",
        "  if len(lista)==1:\n",
        "    return function(lista[0])\n",
        "\n",
        "  return (divided_diference(lista[1:],function,derfunction)-divided_diference(lista[0:-1],function,derfunction))/(lista[-1]-lista[0])\n",
        "\n",
        "\n",
        "\"\"\"\n",
        "modified_Kou_method\n",
        "\n",
        "Entradas: x_0: valor inicial para el metodo\n",
        "          funcion_text: funcion del circuito en string\n",
        "          alpha: el valor del angulo para realizar las operaciones\n",
        "\n",
        "Salidas: x_k: el cero aproximado de la funcion\n",
        "         error: acercamiento a la solución real\n",
        "         iter: cantidad de iteraciones utilizadas\n",
        "         tiempoEjec: tiempo de ejecución\n",
        "\n",
        "Condicion de parada: iter = iterMax, error < tol, denominador = 0\n",
        "\"\"\"\n",
        "def modified_Kou_method(x_0, funcion_text, alpha=0):\n",
        "  start_time = time.time()\n",
        "  tol = 10**-8\n",
        "  iterMax = 2500\n",
        "\n",
        "  # Conversion de string a simbolico\n",
        "  f = sympy.lambdify(x,funcion_text, modules=[{'E' :math.exp(1),'e' :math.exp(1),'log':math.log }, 'numpy'])\n",
        "  # Se aplica la derivada al texto\n",
        "  df_sym = diff(funcion_text,x)\n",
        "  #print(df_sym)\n",
        "  # Se convierte la derivada a funcion simbolica\n",
        "  f_der = sympy.lambdify(x,df_sym, modules=[{'E' :math.exp(1),'e' :math.exp(1),'log':math.log }, 'numpy'])\n",
        "\n",
        "  # Salidas\n",
        "  xk = x_0;\n",
        "  error = 0\n",
        "  iter = 0\n",
        "\n",
        "  for iter in range(iterMax):\n",
        "    \n",
        "    y_n = xk - f(xk)/(f_der(xk))\n",
        "    z_n = xk - (alpha*(f(xk)+f(y_n)/f_der(xk))) - (1-alpha)*(f(xk)/f_der(xk))*(f(xk)/(f(xk)-f(y_n)))\n",
        "\n",
        "    xk = z_n - f(z_n)/(divided_diference([z_n,y_n],f,f_der) + divided_diference([z_n,xk,xk],f,f_der)*(z_n-y_n))\n",
        "\n",
        "    error = abs(f(xk))\n",
        "\n",
        "    if error<tol:\n",
        "      tiempoEjec = time.time() - start_time\n",
        "      print(\"Metodo de Kou Modificado\")\n",
        "      print(\"Aproximacion del cero: \" + str(xk) + \" Error: \" + str(error) + \" Iteraciones: \" + str(iter) + \" TiempoEjecucion: \" + str(tiempoEjec))\n",
        "      return xk,error,iter,tiempoEjec\n",
        "\n",
        "  print(\"Metodo de Kou Modificado\")\n",
        "  print(\"Maxima iterracion alcanzada\\n\")\n",
        "  \n",
        "  tiempoEjec = time.time() - start_time\n",
        "  print(\"Aproximacion del cero: \" + str(xk) + \" Error: \" + str(error) + \" Iteraciones: \" + str(iter) + \" TiempoEjecucion: \" + str(tiempoEjec))\n",
        "  return xk,error,iter,tiempoEjec\n",
        "\n",
        "# Prueba\n",
        "modified_Kou_method(1, f_conValores)"
      ],
      "metadata": {
        "colab": {
          "base_uri": "https://localhost:8080/"
        },
        "id": "h9vPcq5vL0Yt",
        "outputId": "0529a7c9-e269-46e4-b143-c148f8722eca"
      },
      "execution_count": 33,
      "outputs": [
        {
          "output_type": "stream",
          "name": "stdout",
          "text": [
            "Metodo de Kou Modificado\n",
            "Aproximacion del cero: 0.7038506245762752 Error: 3.43960610834455e-10 Iteraciones: 6 TiempoEjecucion: 0.008435249328613281\n"
          ]
        },
        {
          "output_type": "execute_result",
          "data": {
            "text/plain": [
              "(0.7038506245762752, 3.43960610834455e-10, 6, 0.008435249328613281)"
            ]
          },
          "metadata": {},
          "execution_count": 33
        }
      ]
    },
    {
      "cell_type": "code",
      "source": [
        "#@title Método de Ostrowski\n",
        "\n",
        "import sympy as sp\n",
        "from sympy.abc import x\n",
        "from sympy import diff\n",
        "import time\n",
        "import math\n",
        "\n",
        "\"\"\"\n",
        "Entradas: x_0: valor inicial para el metodo\n",
        "          funcion_text: funcion del circuito en string\n",
        "\n",
        "Salidas: x_k: el cero aproximado de la funcion\n",
        "         error: acercamiento a la solución real\n",
        "         iter: cantidad de iteraciones utilizadas\n",
        "         tiempoEjec: tiempo de ejecución\n",
        "\n",
        "Condicion de parada: iter = iterMax, error < tol, denominador = 0\n",
        "\"\"\"\n",
        "def ostrowski_method(x_0, funcion_text):\n",
        "  start_time = time.time()\n",
        "  tol = 10**-8\n",
        "  iterMax = 2500  \n",
        "\n",
        "  # Se considera a1 = a2 = a\n",
        "  a = 1\n",
        "  # Se considera m1 = m2 = m\n",
        "  m = 1\n",
        "  k = 2\n",
        "\n",
        "  # Conversión de texto a simbolico\n",
        "  f= sympy.lambdify(x,funcion_text, modules=[{'E' :math.exp(1),'e' :math.exp(1),'log':math.log }, 'numpy'])\n",
        "  # Se aplica la derivada al texto\n",
        "  df_sym=diff(funcion_text,x)\n",
        "  # Se convierte la derivada en función\n",
        "  f_der=sympy.lambdify(x,df_sym, modules=[{'E' :math.exp(1),'e' :math.exp(1),'log':math.log }, 'numpy'])\n",
        "\n",
        "  # Salidas\n",
        "  x_k = x_0;\n",
        "  error = 0\n",
        "  iter = 0\n",
        "\n",
        "  # Se itera el método hasta iterMax ocasiones\n",
        "  for iter in range(iterMax):\n",
        "\n",
        "    # Cálculo de y_n\n",
        "    # se valida que la derivada en el punto x_k no sea cero porque indefiniría el denominador\n",
        "    if (f_der(x_k)) != 0:\n",
        "      y_n = x_k - f(x_k)/f_der(x_k)\n",
        "    else:\n",
        "      y_n = x_k\n",
        "    # Cálculo de H1\n",
        "    # se verifica que no se indefina la fracción\n",
        "\n",
        "    if (f(x_k)-2*f(y_n)) != 0:\n",
        "      H1 = f(y_n) / (f(x_k)-2*f(y_n))\n",
        "    else:\n",
        "      H1 = 0\n",
        "    # Cálculo de z_n\n",
        "    # se verifica que el denominador no sea cero\n",
        "\n",
        "    if (f_der(x_k)) != 0:\n",
        "      z_n = x_k - (1 + H1)*f(x_k)/f_der(x_k)\n",
        "    else:\n",
        "      z_n = x_k\n",
        "    # Cálculo de H2\n",
        "    # se verifica que el denominador no sea cero\n",
        "    if (a*f(y_n)+a*f(z_n)) != 0:\n",
        "      H2 = f(z_n) / (a*f(y_n)+a*f(z_n))\n",
        "    else:\n",
        "      H2 = 0\n",
        "    # Cálculo de x_k\n",
        "    # se verifica que el denominador no sea cero\n",
        "\n",
        "    if (f_der(x_k)) != 0:\n",
        "      x_k = z_n - (m + m*H1 + H2)**k*f(z_n)/f_der(x_k)\n",
        "    else:\n",
        "      x_k = z_n\n",
        "\n",
        "    # se calcula el error absoluto de la función\n",
        "    error = abs(f(x_k))\n",
        "\n",
        "    # se condiera la condición de parada con respecto a la tolerancia \n",
        "    if error<tol:\n",
        "      tiempoEjec = time.time() - start_time\n",
        "\n",
        "      print(\"Metodo de Ostrowski\")\n",
        "      print(\"Aproximacion del cero: \" + str(x_k) + \" Error: \" + str(error) + \" Iteraciones: \" + str(iter) + \" TiempoEjecucion: \" + str(tiempoEjec))\n",
        "      return x_k,error,iter,tiempoEjec\n",
        "\n",
        "  print(\"Metodo de Ostrowski\")\n",
        "  print(\"Maxima iteracion alcanzada\\n\")\n",
        "  tiempoEjec = time.time() - start_time\n",
        "  print(\"Aproximacion del cero: \" + str(x_k) + \" Error: \" + str(error) + \" Iteraciones: \" + str(iter) + \" TiempoEjecucion: \" + str(tiempoEjec))\n",
        "  return x_k,error,iter,tiempoEjec\n",
        "\n",
        "# Prueba \n",
        "ostrowski_method(1,f_conValores)"
      ],
      "metadata": {
        "id": "R-YclPOcXbEy",
        "colab": {
          "base_uri": "https://localhost:8080/"
        },
        "outputId": "8485270f-a0e4-4e95-d42b-07c44d8fa7ec"
      },
      "execution_count": null,
      "outputs": [
        {
          "output_type": "stream",
          "name": "stdout",
          "text": [
            "Metodo de Ostrowski\n",
            "Aproximacion del cero: 0.7038505235217759 Error: 1.3464455678874332e-11 Iteraciones: 4 TiempoEjecucion: 0.003901958465576172\n"
          ]
        },
        {
          "output_type": "execute_result",
          "data": {
            "text/plain": [
              "(0.7038505235217759, 1.3464455678874332e-11, 4, 0.003901958465576172)"
            ]
          },
          "metadata": {},
          "execution_count": 28
        }
      ]
    }
  ]
}